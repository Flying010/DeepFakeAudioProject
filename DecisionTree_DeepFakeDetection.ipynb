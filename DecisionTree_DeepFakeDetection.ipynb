{
  "nbformat": 4,
  "nbformat_minor": 0,
  "metadata": {
    "colab": {
      "name": "DecisionTree - DeepFakeDetection",
      "provenance": [],
      "authorship_tag": "ABX9TyMvF6nhu2KcbJ47guoG6zkk",
      "include_colab_link": true
    },
    "kernelspec": {
      "name": "python3",
      "display_name": "Python 3"
    },
    "language_info": {
      "name": "python"
    }
  },
  "cells": [
    {
      "cell_type": "markdown",
      "metadata": {
        "id": "view-in-github",
        "colab_type": "text"
      },
      "source": [
        "<a href=\"https://colab.research.google.com/github/Flying010/DeepFakeAudioiProject/blob/main/DecisionTree_DeepFakeDetection.ipynb\" target=\"_parent\"><img src=\"https://colab.research.google.com/assets/colab-badge.svg\" alt=\"Open In Colab\"/></a>"
      ]
    },
    {
      "cell_type": "code",
      "execution_count": null,
      "metadata": {
        "id": "tV-PKHh9n4eY"
      },
      "outputs": [],
      "source": [
        "import pandas as pd\n",
        "import numpy as np\n",
        "import re \n",
        "from nltk.corpus import stopwords\n",
        "from nltk.stem.porter import PorterStemmer\n",
        "from sklearn.feature_extraction.text import TfidfVectorizer\n",
        "from sklearn.model_selection import train_test_split\n",
        "from sklearn.linear_model import LogisticRegression\n",
        "from sklearn.metrics import accuracy_score\n",
        "from sklearn import tree\n",
        "from sklearn.tree import DecisionTreeClassifier\n",
        "\n",
        "\n",
        "import matplotlib.image  as mpimg\n",
        "import matplotlib.pyplot as plt"
      ]
    },
    {
      "cell_type": "code",
      "source": [
        ""
      ],
      "metadata": {
        "id": "khvbovdMs3Zp"
      },
      "execution_count": null,
      "outputs": []
    },
    {
      "cell_type": "code",
      "source": [
        "import nltk\n",
        "nltk.download('stopwords')"
      ],
      "metadata": {
        "colab": {
          "base_uri": "https://localhost:8080/"
        },
        "id": "NDECLt0toBZt",
        "outputId": "21d050cb-625d-4cb0-8d38-0124534f9e3c"
      },
      "execution_count": null,
      "outputs": [
        {
          "output_type": "stream",
          "name": "stdout",
          "text": [
            "[nltk_data] Downloading package stopwords to /root/nltk_data...\n",
            "[nltk_data]   Package stopwords is already up-to-date!\n"
          ]
        },
        {
          "output_type": "execute_result",
          "data": {
            "text/plain": [
              "True"
            ]
          },
          "metadata": {},
          "execution_count": 5
        }
      ]
    },
    {
      "cell_type": "code",
      "source": [
        "print(stopwords.words('english'))"
      ],
      "metadata": {
        "colab": {
          "base_uri": "https://localhost:8080/"
        },
        "id": "9nH3zOB1oDlA",
        "outputId": "b1fd2cda-eb94-44b0-c6a0-c2bbb5b1f262"
      },
      "execution_count": null,
      "outputs": [
        {
          "output_type": "stream",
          "name": "stdout",
          "text": [
            "['i', 'me', 'my', 'myself', 'we', 'our', 'ours', 'ourselves', 'you', \"you're\", \"you've\", \"you'll\", \"you'd\", 'your', 'yours', 'yourself', 'yourselves', 'he', 'him', 'his', 'himself', 'she', \"she's\", 'her', 'hers', 'herself', 'it', \"it's\", 'its', 'itself', 'they', 'them', 'their', 'theirs', 'themselves', 'what', 'which', 'who', 'whom', 'this', 'that', \"that'll\", 'these', 'those', 'am', 'is', 'are', 'was', 'were', 'be', 'been', 'being', 'have', 'has', 'had', 'having', 'do', 'does', 'did', 'doing', 'a', 'an', 'the', 'and', 'but', 'if', 'or', 'because', 'as', 'until', 'while', 'of', 'at', 'by', 'for', 'with', 'about', 'against', 'between', 'into', 'through', 'during', 'before', 'after', 'above', 'below', 'to', 'from', 'up', 'down', 'in', 'out', 'on', 'off', 'over', 'under', 'again', 'further', 'then', 'once', 'here', 'there', 'when', 'where', 'why', 'how', 'all', 'any', 'both', 'each', 'few', 'more', 'most', 'other', 'some', 'such', 'no', 'nor', 'not', 'only', 'own', 'same', 'so', 'than', 'too', 'very', 's', 't', 'can', 'will', 'just', 'don', \"don't\", 'should', \"should've\", 'now', 'd', 'll', 'm', 'o', 're', 've', 'y', 'ain', 'aren', \"aren't\", 'couldn', \"couldn't\", 'didn', \"didn't\", 'doesn', \"doesn't\", 'hadn', \"hadn't\", 'hasn', \"hasn't\", 'haven', \"haven't\", 'isn', \"isn't\", 'ma', 'mightn', \"mightn't\", 'mustn', \"mustn't\", 'needn', \"needn't\", 'shan', \"shan't\", 'shouldn', \"shouldn't\", 'wasn', \"wasn't\", 'weren', \"weren't\", 'won', \"won't\", 'wouldn', \"wouldn't\"]\n"
          ]
        }
      ]
    },
    {
      "cell_type": "code",
      "source": [
        "from google.colab import drive\n",
        "drive.mount('/content/gdrive')"
      ],
      "metadata": {
        "colab": {
          "base_uri": "https://localhost:8080/"
        },
        "id": "avOnAG1ToI9O",
        "outputId": "d70847a1-9f6f-4124-80c4-8edf0308cbeb"
      },
      "execution_count": null,
      "outputs": [
        {
          "output_type": "stream",
          "name": "stdout",
          "text": [
            "Mounted at /content/gdrive\n"
          ]
        }
      ]
    },
    {
      "cell_type": "code",
      "source": [
        "final = pd.read_csv('/content/gdrive/My Drive/fake-news/train.csv')\n",
        "test_dataset = pd.read_csv('/content/gdrive/My Drive/fake-news/test.csv')\n",
        "submit_dataset = pd.read_csv('/content/gdrive/My Drive/fake-news/submit.csv')\n",
        "test_dataset['label'] = submit_dataset['label']\n",
        "\n",
        "frames = [final, test_dataset]\n",
        "\n",
        "news_dataset = pd.concat(frames)\n"
      ],
      "metadata": {
        "id": "2y4yCRZVoSsZ"
      },
      "execution_count": null,
      "outputs": []
    },
    {
      "cell_type": "code",
      "source": [
        "news_dataset.isnull().sum()"
      ],
      "metadata": {
        "colab": {
          "base_uri": "https://localhost:8080/"
        },
        "id": "W2NE34WFpZXC",
        "outputId": "711d7dd4-ccfb-4ab1-c2a2-ae52a8ac79a9"
      },
      "execution_count": null,
      "outputs": [
        {
          "output_type": "execute_result",
          "data": {
            "text/plain": [
              "id           0\n",
              "title      680\n",
              "author    2460\n",
              "text        46\n",
              "label        0\n",
              "dtype: int64"
            ]
          },
          "metadata": {},
          "execution_count": 9
        }
      ]
    },
    {
      "cell_type": "code",
      "source": [
        "#Replacing the missing values with empty string\n",
        "news_dataset = news_dataset.fillna('')\n",
        "#news_dataset.iat[0,3] = \"HI\"\n",
        "#news_dataset.iat[0,3]"
      ],
      "metadata": {
        "id": "iHXDidNGpd4U"
      },
      "execution_count": null,
      "outputs": []
    },
    {
      "cell_type": "code",
      "source": [
        "# Merge title and author cols\n",
        "news_dataset['content'] = news_dataset['author']+ ' '+ news_dataset['title']\n",
        "news_dataset['content']"
      ],
      "metadata": {
        "colab": {
          "base_uri": "https://localhost:8080/"
        },
        "id": "mLkhFnKFpf7J",
        "outputId": "98d7f846-6bc3-48c6-b426-cc87c8e36985"
      },
      "execution_count": null,
      "outputs": [
        {
          "output_type": "execute_result",
          "data": {
            "text/plain": [
              "0       Darrell Lucus House Dem Aide: We Didn’t Even S...\n",
              "1       Daniel J. Flynn FLYNN: Hillary Clinton, Big Wo...\n",
              "2       Consortiumnews.com Why the Truth Might Get You...\n",
              "3       Jessica Purkiss 15 Civilians Killed In Single ...\n",
              "4       Howard Portnoy Iranian woman jailed for fictio...\n",
              "                              ...                        \n",
              "5195    Jody Rosen The Bangladeshi Traffic Jam That Ne...\n",
              "5196    Sheryl Gay Stolberg John Kasich Signs One Abor...\n",
              "5197    Mike McPhate California Today: What, Exactly, ...\n",
              "5198     300 US Marines To Be Deployed To Russian Bord...\n",
              "5199    Teddy Wayne Awkward Sex, Onscreen and Off - Th...\n",
              "Name: content, Length: 26000, dtype: object"
            ]
          },
          "metadata": {},
          "execution_count": 11
        }
      ]
    },
    {
      "cell_type": "code",
      "source": [
        "port_stem = PorterStemmer()\n",
        "def stemming(content):\n",
        "    stemmed_content = re.sub('[^a-zA-Z]',' ',content)\n",
        "    stemmed_content = stemmed_content.lower()\n",
        "    stemmed_content = stemmed_content.split()\n",
        "    stemmed_content = [port_stem.stem(word) for word in stemmed_content if not word in stopwords.words('english')]\n",
        "    stemmed_content = ' '.join(stemmed_content)\n",
        "    return stemmed_content\n"
      ],
      "metadata": {
        "id": "kmj_kR4Jo_3j"
      },
      "execution_count": null,
      "outputs": []
    },
    {
      "cell_type": "code",
      "source": [
        "news_dataset['content'] = news_dataset['content'].apply(stemming)"
      ],
      "metadata": {
        "id": "FiglrxzIpDiJ"
      },
      "execution_count": null,
      "outputs": []
    },
    {
      "cell_type": "code",
      "source": [
        "#Separating the target and features\n",
        "X = news_dataset['content'].values\n",
        "X"
      ],
      "metadata": {
        "colab": {
          "base_uri": "https://localhost:8080/"
        },
        "id": "P7bje3SSqgO7",
        "outputId": "3d5fb0f6-55fa-43b2-bf5f-c415d864e598"
      },
      "execution_count": null,
      "outputs": [
        {
          "output_type": "execute_result",
          "data": {
            "text/plain": [
              "array(['darrel lucu hous dem aid even see comey letter jason chaffetz tweet',\n",
              "       'daniel j flynn flynn hillari clinton big woman campu breitbart',\n",
              "       'consortiumnew com truth might get fire', ...,\n",
              "       'mike mcphate california today exactli sushi new york time',\n",
              "       'us marin deploy russian border norway',\n",
              "       'teddi wayn awkward sex onscreen new york time'], dtype=object)"
            ]
          },
          "metadata": {},
          "execution_count": 14
        }
      ]
    },
    {
      "cell_type": "code",
      "source": [
        "Y = news_dataset['label'].values\n",
        "Y"
      ],
      "metadata": {
        "colab": {
          "base_uri": "https://localhost:8080/"
        },
        "id": "w7rqyJj6qkOH",
        "outputId": "00043c50-dd57-417b-9da2-8bbf9678bca9"
      },
      "execution_count": null,
      "outputs": [
        {
          "output_type": "execute_result",
          "data": {
            "text/plain": [
              "array([1, 0, 1, ..., 0, 1, 0])"
            ]
          },
          "metadata": {},
          "execution_count": 15
        }
      ]
    },
    {
      "cell_type": "code",
      "source": [
        "vectorizer = TfidfVectorizer()\n",
        "X = vectorizer.fit_transform(X)"
      ],
      "metadata": {
        "id": "XeDnnTlXqpKQ"
      },
      "execution_count": null,
      "outputs": []
    },
    {
      "cell_type": "code",
      "source": [
        "print(X)"
      ],
      "metadata": {
        "colab": {
          "base_uri": "https://localhost:8080/"
        },
        "id": "V9v6S-McsL4i",
        "outputId": "7b5fbca9-eafe-4c40-de5a-83e1c443860c"
      },
      "execution_count": null,
      "outputs": [
        {
          "output_type": "stream",
          "name": "stdout",
          "text": [
            "  (0, 17288)\t0.2781166125472449\n",
            "  (0, 2716)\t0.3693871882860092\n",
            "  (0, 8465)\t0.24935613493111794\n",
            "  (0, 9497)\t0.290825608206731\n",
            "  (0, 3250)\t0.2422331119224367\n",
            "  (0, 14828)\t0.25354922096224614\n",
            "  (0, 5460)\t0.23257096486999831\n",
            "  (0, 292)\t0.2687157895589713\n",
            "  (0, 4153)\t0.26978240443495427\n",
            "  (0, 7716)\t0.21726269299124773\n",
            "  (0, 9798)\t0.3693871882860092\n",
            "  (0, 3947)\t0.36572148274252403\n",
            "  (1, 2063)\t0.15482456635576514\n",
            "  (1, 2427)\t0.3785747505554428\n",
            "  (1, 18506)\t0.302866130276713\n",
            "  (1, 1635)\t0.2955188023757639\n",
            "  (1, 3085)\t0.19140110904389093\n",
            "  (1, 7506)\t0.1909783988504311\n",
            "  (1, 6041)\t0.7148288693257809\n",
            "  (1, 3913)\t0.2637495226080166\n",
            "  (2, 5911)\t0.38560410675769785\n",
            "  (2, 6567)\t0.34955443497637173\n",
            "  (2, 10596)\t0.4947014614528309\n",
            "  (2, 17205)\t0.4172932979023739\n",
            "  (2, 3231)\t0.31666291960534937\n",
            "  :\t:\n",
            "  (25996, 11356)\t0.08066725476410413\n",
            "  (25996, 8604)\t0.1780565335099132\n",
            "  (25997, 5494)\t0.47911338942972304\n",
            "  (25997, 16321)\t0.522197410135636\n",
            "  (25997, 16897)\t0.34050601125337576\n",
            "  (25997, 10362)\t0.38120549237290263\n",
            "  (25997, 2384)\t0.32699216357792227\n",
            "  (25997, 10606)\t0.2965006137361755\n",
            "  (25997, 16848)\t0.11760214491229513\n",
            "  (25997, 18716)\t0.11993266522444608\n",
            "  (25997, 11356)\t0.11596402950369909\n",
            "  (25998, 11533)\t0.5243094225558957\n",
            "  (25998, 10127)\t0.4513865237603271\n",
            "  (25998, 4225)\t0.45579515819496186\n",
            "  (25998, 1927)\t0.35271148088668186\n",
            "  (25998, 14367)\t0.32462471897005757\n",
            "  (25998, 17664)\t0.2895064980912094\n",
            "  (25999, 16598)\t0.5042913358311566\n",
            "  (25999, 11801)\t0.48476707756355636\n",
            "  (25999, 1107)\t0.4513901375998317\n",
            "  (25999, 18182)\t0.4267924812080156\n",
            "  (25999, 14969)\t0.3040296960488088\n",
            "  (25999, 16848)\t0.10363305122250528\n",
            "  (25999, 18716)\t0.1056867461705383\n",
            "  (25999, 11356)\t0.10218951549299955\n"
          ]
        }
      ]
    },
    {
      "cell_type": "code",
      "source": [
        "X_train, X_test, Y_train, Y_test = train_test_split(X,Y, test_size= 0.2, stratify= Y, random_state = 1)\n",
        "print(X.shape,X_train.shape, Y.shape, Y_train.shape)"
      ],
      "metadata": {
        "colab": {
          "base_uri": "https://localhost:8080/"
        },
        "id": "Y8LHMzjqsUmD",
        "outputId": "ebe53257-98c6-4dad-8540-69da20150e09"
      },
      "execution_count": null,
      "outputs": [
        {
          "output_type": "stream",
          "name": "stdout",
          "text": [
            "(26000, 18866) (20800, 18866) (26000,) (20800,)\n"
          ]
        }
      ]
    },
    {
      "cell_type": "code",
      "source": [
        "#Model Training\n",
        "model = tree.DecisionTreeClassifier()\n",
        "model = model.fit(X_train, Y_train)"
      ],
      "metadata": {
        "id": "5wUk2cOOsZAW"
      },
      "execution_count": null,
      "outputs": []
    },
    {
      "cell_type": "code",
      "source": [
        "#Acc score on training data\n",
        "train_prediction = model.predict(X_train)\n",
        "train_acc = accuracy_score(train_prediction, Y_train)\n",
        "print(\"Training data accuracy:\", train_acc)"
      ],
      "metadata": {
        "colab": {
          "base_uri": "https://localhost:8080/"
        },
        "id": "cnjzhiUssbpr",
        "outputId": "8a2bfcef-7a8d-435c-f17c-ff317566750f"
      },
      "execution_count": null,
      "outputs": [
        {
          "output_type": "stream",
          "name": "stdout",
          "text": [
            "Training data accuracy: 0.9975480769230769\n"
          ]
        }
      ]
    },
    {
      "cell_type": "code",
      "source": [
        "# Acc score on test data\n",
        "test_prediction = model.predict(X_test)\n",
        "test_acc = accuracy_score(test_prediction, Y_test)\n",
        "print(\"Test data accuracy:\", test_acc)"
      ],
      "metadata": {
        "colab": {
          "base_uri": "https://localhost:8080/"
        },
        "id": "cH8MqdURsfkr",
        "outputId": "e503bf56-e102-49f2-b3c0-5df22f4b9599"
      },
      "execution_count": null,
      "outputs": [
        {
          "output_type": "stream",
          "name": "stdout",
          "text": [
            "Test data accuracy: 0.8894230769230769\n"
          ]
        }
      ]
    },
    {
      "cell_type": "code",
      "source": [
        "#Data to calculate accuracy test data set\n",
        "test_ratio = [0]*(1+len(Y_test))\n",
        "test_id = [0]*(1+len(Y_test))\n",
        "index = 0\n",
        "cnt = 0\n",
        "\n",
        "final_length = 0\n",
        "\n",
        "for i in range(0,len(test_prediction)):\n",
        "  #print(ratio[index])\n",
        "  index += 1\n",
        "\n",
        "  #print(ratio)\n",
        "  if(test_prediction[i] == Y_test[i]):\n",
        "    cnt += 1\n",
        "  test_ratio[index] = (cnt/(index))\n",
        "  test_id[index] = index\n",
        "  if(i % 100 == 0):\n",
        "    #print(final_length)\n",
        "    final_length+=1"
      ],
      "metadata": {
        "id": "5BtD-yQj_ALi"
      },
      "execution_count": null,
      "outputs": []
    },
    {
      "cell_type": "code",
      "source": [
        "#Final data to plot a few points of test data\n",
        "test_finalratio = [0]*(final_length)\n",
        "test_finalid = [0]*(final_length)\n",
        "\n",
        "for i in range(0, final_length):\n",
        "  test_finalratio[i] = test_ratio[i*100]\n",
        "  test_finalid[i] = test_id[i*100]"
      ],
      "metadata": {
        "id": "JEJHpuDOK8UY"
      },
      "execution_count": null,
      "outputs": []
    },
    {
      "cell_type": "code",
      "source": [
        "plt.plot(test_finalid, test_finalratio, marker = '.')\n",
        "plt.ylim(0, 1)\n",
        "plt.title('Decision Tree Model')\n",
        "plt.ylabel('Accuracy')\n",
        "plt.xlabel('Number of Data Tested')\n",
        "plt.legend(['Test'], loc='lower right')\n",
        "plt.show()"
      ],
      "metadata": {
        "colab": {
          "base_uri": "https://localhost:8080/",
          "height": 295
        },
        "id": "St41_ADGsusH",
        "outputId": "0b276ee3-3f1f-4abd-8d5c-08b1f8f24953"
      },
      "execution_count": null,
      "outputs": [
        {
          "output_type": "display_data",
          "data": {
            "image/png": "[encoded data removed]",
            "text/plain": [
              "<Figure size 432x288 with 1 Axes>"
            ]
          },
          "metadata": {
            "needs_background": "light"
          }
        }
      ]
    },
    {
      "cell_type": "code",
      "source": [
        "tree.plot_tree(model, max_depth = 1, filled = True)"
      ],
      "metadata": {
        "colab": {
          "base_uri": "https://localhost:8080/",
          "height": 373
        },
        "id": "C155nb872XXp",
        "outputId": "dd888463-d3c4-4f8e-e402-993083c671b5"
      },
      "execution_count": null,
      "outputs": [
        {
          "output_type": "execute_result",
          "data": {
            "text/plain": [
              "[Text(0.5, 0.8333333333333334, 'X[18716] <= 0.064\\ngini = 0.5\\nsamples = 20800\\nvalue = [10181, 10619]'),\n",
              " Text(0.25, 0.5, 'X[2063] <= 0.041\\ngini = 0.406\\nsamples = 14509\\nvalue = [4109, 10400]'),\n",
              " Text(0.125, 0.16666666666666666, '\\n  (...)  \\n'),\n",
              " Text(0.375, 0.16666666666666666, '\\n  (...)  \\n'),\n",
              " Text(0.75, 0.5, 'X[16848] <= 0.032\\ngini = 0.067\\nsamples = 6291\\nvalue = [6072, 219]'),\n",
              " Text(0.625, 0.16666666666666666, '\\n  (...)  \\n'),\n",
              " Text(0.875, 0.16666666666666666, '\\n  (...)  \\n')]"
            ]
          },
          "metadata": {},
          "execution_count": 25
        },
        {
          "output_type": "display_data",
          "data": {
            "image/png": "[encoded data removed]",
            "text/plain": [
              "<Figure size 432x288 with 1 Axes>"
            ]
          },
          "metadata": {
            "needs_background": "light"
          }
        }
      ]
    },
    {
      "cell_type": "code",
      "source": [
        "print(model.get_depth())"
      ],
      "metadata": {
        "colab": {
          "base_uri": "https://localhost:8080/"
        },
        "id": "IhgplvX5vPRD",
        "outputId": "f8f5f872-09c1-4ec8-c68e-fe47cef52f70"
      },
      "execution_count": null,
      "outputs": [
        {
          "output_type": "stream",
          "name": "stdout",
          "text": [
            "1234\n"
          ]
        }
      ]
    },
    {
      "cell_type": "code",
      "source": [
        "import matplotlib.pyplot as plt\n",
        "from sklearn.datasets import make_classification\n",
        "from sklearn.metrics import plot_confusion_matrix\n",
        "from sklearn.model_selection import train_test_split\n",
        "from sklearn.svm import SVC\n",
        "\n",
        "clf = SVC(random_state=0)\n",
        "clf.fit(X_train, Y_train)\n",
        "SVC(random_state=0)\n",
        "plot_confusion_matrix(clf, X_test, Y_test)  \n",
        "plt.title(\"Decision Tree Confusion Matrix\")\n",
        "plt.show()"
      ],
      "metadata": {
        "colab": {
          "base_uri": "https://localhost:8080/",
          "height": 350
        },
        "id": "zsicoLadXo8U",
        "outputId": "315df6ee-7e6f-46da-c87c-3d632d7bdf84"
      },
      "execution_count": null,
      "outputs": [
        {
          "output_type": "stream",
          "name": "stderr",
          "text": [
            "/usr/local/lib/python3.7/dist-packages/sklearn/utils/deprecation.py:87: FutureWarning: Function plot_confusion_matrix is deprecated; Function `plot_confusion_matrix` is deprecated in 1.0 and will be removed in 1.2. Use one of the class methods: ConfusionMatrixDisplay.from_predictions or ConfusionMatrixDisplay.from_estimator.\n",
            "  warnings.warn(msg, category=FutureWarning)\n"
          ]
        },
        {
          "output_type": "display_data",
          "data": {
            "image/png": "[encoded data removed]",
            "text/plain": [
              "<Figure size 432x288 with 2 Axes>"
            ]
          },
          "metadata": {
            "needs_background": "light"
          }
        }
      ]
    }
  ]
}