{
  "nbformat": 4,
  "nbformat_minor": 0,
  "metadata": {
    "colab": {
      "name": "Copy of Logistic Regression - DeepFakeDetection",
      "provenance": [],
      "authorship_tag": "ABX9TyOAbQuoFFksrkipOX+tTTfL",
      "include_colab_link": true
    },
    "kernelspec": {
      "name": "python3",
      "display_name": "Python 3"
    },
    "language_info": {
      "name": "python"
    }
  },
  "cells": [
    {
      "cell_type": "markdown",
      "metadata": {
        "id": "view-in-github",
        "colab_type": "text"
      },
      "source": [
        "<a href=\"https://colab.research.google.com/github/Flying010/DeepFakeAudioiProject/blob/main/Logistic_Regression_DeepFakeDetection.ipynb\" target=\"_parent\"><img src=\"https://colab.research.google.com/assets/colab-badge.svg\" alt=\"Open In Colab\"/></a>"
      ]
    },
    {
      "cell_type": "code",
      "execution_count": null,
      "metadata": {
        "id": "tV-PKHh9n4eY"
      },
      "outputs": [],
      "source": [
        "import pandas as pd\n",
        "import numpy as np\n",
        "import re \n",
        "from nltk.corpus import stopwords\n",
        "from nltk.stem.porter import PorterStemmer\n",
        "from sklearn.feature_extraction.text import TfidfVectorizer\n",
        "from sklearn.model_selection import train_test_split\n",
        "from sklearn.linear_model import LogisticRegression\n",
        "from sklearn.metrics import accuracy_score\n",
        "from sklearn.tree import DecisionTreeClassifier\n",
        "\n",
        "import matplotlib.image  as mpimg\n",
        "import matplotlib.pyplot as plt"
      ]
    },
    {
      "cell_type": "code",
      "source": [
        "import nltk\n",
        "nltk.download('stopwords')"
      ],
      "metadata": {
        "colab": {
          "base_uri": "https://localhost:8080/"
        },
        "id": "NDECLt0toBZt",
        "outputId": "152bac5d-61d6-4fee-f218-4e5642d06ea8"
      },
      "execution_count": null,
      "outputs": [
        {
          "output_type": "stream",
          "name": "stdout",
          "text": [
            "[nltk_data] Downloading package stopwords to /root/nltk_data...\n",
            "[nltk_data]   Unzipping corpora/stopwords.zip.\n"
          ]
        },
        {
          "output_type": "execute_result",
          "data": {
            "text/plain": [
              "True"
            ]
          },
          "metadata": {},
          "execution_count": 2
        }
      ]
    },
    {
      "cell_type": "code",
      "source": [
        "print(stopwords.words('english'))"
      ],
      "metadata": {
        "colab": {
          "base_uri": "https://localhost:8080/"
        },
        "id": "9nH3zOB1oDlA",
        "outputId": "224b8e5b-51dc-4bb7-99c9-0d76db7edc1a"
      },
      "execution_count": null,
      "outputs": [
        {
          "output_type": "stream",
          "name": "stdout",
          "text": [
            "['i', 'me', 'my', 'myself', 'we', 'our', 'ours', 'ourselves', 'you', \"you're\", \"you've\", \"you'll\", \"you'd\", 'your', 'yours', 'yourself', 'yourselves', 'he', 'him', 'his', 'himself', 'she', \"she's\", 'her', 'hers', 'herself', 'it', \"it's\", 'its', 'itself', 'they', 'them', 'their', 'theirs', 'themselves', 'what', 'which', 'who', 'whom', 'this', 'that', \"that'll\", 'these', 'those', 'am', 'is', 'are', 'was', 'were', 'be', 'been', 'being', 'have', 'has', 'had', 'having', 'do', 'does', 'did', 'doing', 'a', 'an', 'the', 'and', 'but', 'if', 'or', 'because', 'as', 'until', 'while', 'of', 'at', 'by', 'for', 'with', 'about', 'against', 'between', 'into', 'through', 'during', 'before', 'after', 'above', 'below', 'to', 'from', 'up', 'down', 'in', 'out', 'on', 'off', 'over', 'under', 'again', 'further', 'then', 'once', 'here', 'there', 'when', 'where', 'why', 'how', 'all', 'any', 'both', 'each', 'few', 'more', 'most', 'other', 'some', 'such', 'no', 'nor', 'not', 'only', 'own', 'same', 'so', 'than', 'too', 'very', 's', 't', 'can', 'will', 'just', 'don', \"don't\", 'should', \"should've\", 'now', 'd', 'll', 'm', 'o', 're', 've', 'y', 'ain', 'aren', \"aren't\", 'couldn', \"couldn't\", 'didn', \"didn't\", 'doesn', \"doesn't\", 'hadn', \"hadn't\", 'hasn', \"hasn't\", 'haven', \"haven't\", 'isn', \"isn't\", 'ma', 'mightn', \"mightn't\", 'mustn', \"mustn't\", 'needn', \"needn't\", 'shan', \"shan't\", 'shouldn', \"shouldn't\", 'wasn', \"wasn't\", 'weren', \"weren't\", 'won', \"won't\", 'wouldn', \"wouldn't\"]\n"
          ]
        }
      ]
    },
    {
      "cell_type": "code",
      "source": [
        "from google.colab import drive\n",
        "drive.mount('/content/gdrive')"
      ],
      "metadata": {
        "colab": {
          "base_uri": "https://localhost:8080/"
        },
        "id": "avOnAG1ToI9O",
        "outputId": "5618fe97-2677-4e43-cf8f-fb429290c617"
      },
      "execution_count": null,
      "outputs": [
        {
          "output_type": "stream",
          "name": "stdout",
          "text": [
            "Mounted at /content/gdrive\n"
          ]
        }
      ]
    },
    {
      "cell_type": "code",
      "source": [
        "news_dataset = pd.read_csv('/content/gdrive/My Drive/fake-news/train.csv')\n",
        "#test_dataset = pd.read_csv('/content/gdrive/My Drive/fake-news/test.csv')\n",
        "#submit_dataset = pd.read_csv('/content/gdrive/My Drive/fake-news/submit.csv')\n",
        "#test_dataset['label'] = submit_dataset['label']\n",
        "\n",
        "#frames = [final, test_dataset]\n",
        "\n",
        "#news_dataset = pd.concat(frames)\n",
        "\n",
        "#new_dataset = pd.concat(news_dataset, test_dataset)"
      ],
      "metadata": {
        "id": "2y4yCRZVoSsZ"
      },
      "execution_count": null,
      "outputs": []
    },
    {
      "cell_type": "code",
      "source": [
        "news_dataset.head()"
      ],
      "metadata": {
        "colab": {
          "base_uri": "https://localhost:8080/",
          "height": 206
        },
        "id": "MNMLIcdsOB82",
        "outputId": "5c352cea-42a0-4612-e7ab-7c63823dc2d4"
      },
      "execution_count": null,
      "outputs": [
        {
          "output_type": "execute_result",
          "data": {
            "text/html": [
              "\n",
              "  <div id=\"df-84fba3cc-c7ff-4e09-b8ac-a21960f58191\">\n",
              "    <div class=\"colab-df-container\">\n",
              "      <div>\n",
              "<style scoped>\n",
              "    .dataframe tbody tr th:only-of-type {\n",
              "        vertical-align: middle;\n",
              "    }\n",
              "\n",
              "    .dataframe tbody tr th {\n",
              "        vertical-align: top;\n",
              "    }\n",
              "\n",
              "    .dataframe thead th {\n",
              "        text-align: right;\n",
              "    }\n",
              "</style>\n",
              "<table border=\"1\" class=\"dataframe\">\n",
              "  <thead>\n",
              "    <tr style=\"text-align: right;\">\n",
              "      <th></th>\n",
              "      <th>id</th>\n",
              "      <th>title</th>\n",
              "      <th>author</th>\n",
              "      <th>text</th>\n",
              "      <th>label</th>\n",
              "    </tr>\n",
              "  </thead>\n",
              "  <tbody>\n",
              "    <tr>\n",
              "      <th>0</th>\n",
              "      <td>0</td>\n",
              "      <td>House Dem Aide: We Didn’t Even See Comey’s Let...</td>\n",
              "      <td>Darrell Lucus</td>\n",
              "      <td>House Dem Aide: We Didn’t Even See Comey’s Let...</td>\n",
              "      <td>1</td>\n",
              "    </tr>\n",
              "    <tr>\n",
              "      <th>1</th>\n",
              "      <td>1</td>\n",
              "      <td>FLYNN: Hillary Clinton, Big Woman on Campus - ...</td>\n",
              "      <td>Daniel J. Flynn</td>\n",
              "      <td>Ever get the feeling your life circles the rou...</td>\n",
              "      <td>0</td>\n",
              "    </tr>\n",
              "    <tr>\n",
              "      <th>2</th>\n",
              "      <td>2</td>\n",
              "      <td>Why the Truth Might Get You Fired</td>\n",
              "      <td>Consortiumnews.com</td>\n",
              "      <td>Why the Truth Might Get You Fired October 29, ...</td>\n",
              "      <td>1</td>\n",
              "    </tr>\n",
              "    <tr>\n",
              "      <th>3</th>\n",
              "      <td>3</td>\n",
              "      <td>15 Civilians Killed In Single US Airstrike Hav...</td>\n",
              "      <td>Jessica Purkiss</td>\n",
              "      <td>Videos 15 Civilians Killed In Single US Airstr...</td>\n",
              "      <td>1</td>\n",
              "    </tr>\n",
              "    <tr>\n",
              "      <th>4</th>\n",
              "      <td>4</td>\n",
              "      <td>Iranian woman jailed for fictional unpublished...</td>\n",
              "      <td>Howard Portnoy</td>\n",
              "      <td>Print \\nAn Iranian woman has been sentenced to...</td>\n",
              "      <td>1</td>\n",
              "    </tr>\n",
              "  </tbody>\n",
              "</table>\n",
              "</div>\n",
              "      <button class=\"colab-df-convert\" onclick=\"convertToInteractive('df-84fba3cc-c7ff-4e09-b8ac-a21960f58191')\"\n",
              "              title=\"Convert this dataframe to an interactive table.\"\n",
              "              style=\"display:none;\">\n",
              "        \n",
              "  <svg xmlns=\"http://www.w3.org/2000/svg\" height=\"24px\"viewBox=\"0 0 24 24\"\n",
              "       width=\"24px\">\n",
              "    <path d=\"M0 0h24v24H0V0z\" fill=\"none\"/>\n",
              "    <path d=\"M18.56 5.44l.94 2.06.94-2.06 2.06-.94-2.06-.94-.94-2.06-.94 2.06-2.06.94zm-11 1L8.5 8.5l.94-2.06 2.06-.94-2.06-.94L8.5 2.5l-.94 2.06-2.06.94zm10 10l.94 2.06.94-2.06 2.06-.94-2.06-.94-.94-2.06-.94 2.06-2.06.94z\"/><path d=\"M17.41 7.96l-1.37-1.37c-.4-.4-.92-.59-1.43-.59-.52 0-1.04.2-1.43.59L10.3 9.45l-7.72 7.72c-.78.78-.78 2.05 0 2.83L4 21.41c.39.39.9.59 1.41.59.51 0 1.02-.2 1.41-.59l7.78-7.78 2.81-2.81c.8-.78.8-2.07 0-2.86zM5.41 20L4 18.59l7.72-7.72 1.47 1.35L5.41 20z\"/>\n",
              "  </svg>\n",
              "      </button>\n",
              "      \n",
              "  <style>\n",
              "    .colab-df-container {\n",
              "      display:flex;\n",
              "      flex-wrap:wrap;\n",
              "      gap: 12px;\n",
              "    }\n",
              "\n",
              "    .colab-df-convert {\n",
              "      background-color: #E8F0FE;\n",
              "      border: none;\n",
              "      border-radius: 50%;\n",
              "      cursor: pointer;\n",
              "      display: none;\n",
              "      fill: #1967D2;\n",
              "      height: 32px;\n",
              "      padding: 0 0 0 0;\n",
              "      width: 32px;\n",
              "    }\n",
              "\n",
              "    .colab-df-convert:hover {\n",
              "      background-color: #E2EBFA;\n",
              "      box-shadow: 0px 1px 2px rgba(60, 64, 67, 0.3), 0px 1px 3px 1px rgba(60, 64, 67, 0.15);\n",
              "      fill: #174EA6;\n",
              "    }\n",
              "\n",
              "    [theme=dark] .colab-df-convert {\n",
              "      background-color: #3B4455;\n",
              "      fill: #D2E3FC;\n",
              "    }\n",
              "\n",
              "    [theme=dark] .colab-df-convert:hover {\n",
              "      background-color: #434B5C;\n",
              "      box-shadow: 0px 1px 3px 1px rgba(0, 0, 0, 0.15);\n",
              "      filter: drop-shadow(0px 1px 2px rgba(0, 0, 0, 0.3));\n",
              "      fill: #FFFFFF;\n",
              "    }\n",
              "  </style>\n",
              "\n",
              "      <script>\n",
              "        const buttonEl =\n",
              "          document.querySelector('#df-84fba3cc-c7ff-4e09-b8ac-a21960f58191 button.colab-df-convert');\n",
              "        buttonEl.style.display =\n",
              "          google.colab.kernel.accessAllowed ? 'block' : 'none';\n",
              "\n",
              "        async function convertToInteractive(key) {\n",
              "          const element = document.querySelector('#df-84fba3cc-c7ff-4e09-b8ac-a21960f58191');\n",
              "          const dataTable =\n",
              "            await google.colab.kernel.invokeFunction('convertToInteractive',\n",
              "                                                     [key], {});\n",
              "          if (!dataTable) return;\n",
              "\n",
              "          const docLinkHtml = 'Like what you see? Visit the ' +\n",
              "            '<a target=\"_blank\" href=https://colab.research.google.com/notebooks/data_table.ipynb>data table notebook</a>'\n",
              "            + ' to learn more about interactive tables.';\n",
              "          element.innerHTML = '';\n",
              "          dataTable['output_type'] = 'display_data';\n",
              "          await google.colab.output.renderOutput(dataTable, element);\n",
              "          const docLink = document.createElement('div');\n",
              "          docLink.innerHTML = docLinkHtml;\n",
              "          element.appendChild(docLink);\n",
              "        }\n",
              "      </script>\n",
              "    </div>\n",
              "  </div>\n",
              "  "
            ],
            "text/plain": [
              "   id  ... label\n",
              "0   0  ...     1\n",
              "1   1  ...     0\n",
              "2   2  ...     1\n",
              "3   3  ...     1\n",
              "4   4  ...     1\n",
              "\n",
              "[5 rows x 5 columns]"
            ]
          },
          "metadata": {},
          "execution_count": 6
        }
      ]
    },
    {
      "cell_type": "code",
      "source": [
        "news_dataset.isnull().sum()"
      ],
      "metadata": {
        "colab": {
          "base_uri": "https://localhost:8080/"
        },
        "id": "W2NE34WFpZXC",
        "outputId": "df905175-18f0-47fd-f2f8-009dc3f9424d"
      },
      "execution_count": null,
      "outputs": [
        {
          "output_type": "execute_result",
          "data": {
            "text/plain": [
              "id           0\n",
              "title      558\n",
              "author    1957\n",
              "text        39\n",
              "label        0\n",
              "dtype: int64"
            ]
          },
          "metadata": {},
          "execution_count": 7
        }
      ]
    },
    {
      "cell_type": "code",
      "source": [
        "#Replacing the missing values with empty string\n",
        "news_dataset = news_dataset.fillna('')"
      ],
      "metadata": {
        "id": "iHXDidNGpd4U"
      },
      "execution_count": null,
      "outputs": []
    },
    {
      "cell_type": "code",
      "source": [
        "# Merge title and author cols\n",
        "news_dataset['content'] = news_dataset['author']+ ' '+ news_dataset['title']"
      ],
      "metadata": {
        "id": "mLkhFnKFpf7J"
      },
      "execution_count": null,
      "outputs": []
    },
    {
      "cell_type": "code",
      "source": [
        "#Separating the target and features\n",
        "X = news_dataset['text']\n",
        "X"
      ],
      "metadata": {
        "colab": {
          "base_uri": "https://localhost:8080/"
        },
        "id": "P7bje3SSqgO7",
        "outputId": "ded2c6cb-5eed-4137-f7b9-25bd0118403c"
      },
      "execution_count": null,
      "outputs": [
        {
          "output_type": "execute_result",
          "data": {
            "text/plain": [
              "0        House Dem Aide: We Didn’t Even See Comey’s Let...\n",
              "1        Ever get the feeling your life circles the rou...\n",
              "2        Why the Truth Might Get You Fired October 29, ...\n",
              "3        Videos 15 Civilians Killed In Single US Airstr...\n",
              "4        Print \\nAn Iranian woman has been sentenced to...\n",
              "                               ...                        \n",
              "20795    Rapper T. I. unloaded on black celebrities who...\n",
              "20796    When the Green Bay Packers lost to the Washing...\n",
              "20797    The Macy’s of today grew from the union of sev...\n",
              "20798    NATO, Russia To Hold Parallel Exercises In Bal...\n",
              "20799      David Swanson is an author, activist, journa...\n",
              "Name: text, Length: 20800, dtype: object"
            ]
          },
          "metadata": {},
          "execution_count": 10
        }
      ]
    },
    {
      "cell_type": "code",
      "source": [
        "Y = news_dataset['label']\n",
        "Y"
      ],
      "metadata": {
        "colab": {
          "base_uri": "https://localhost:8080/"
        },
        "id": "w7rqyJj6qkOH",
        "outputId": "411bb602-0189-46d1-a60f-ae83083f2aca"
      },
      "execution_count": null,
      "outputs": [
        {
          "output_type": "execute_result",
          "data": {
            "text/plain": [
              "0        1\n",
              "1        0\n",
              "2        1\n",
              "3        1\n",
              "4        1\n",
              "        ..\n",
              "20795    0\n",
              "20796    0\n",
              "20797    0\n",
              "20798    1\n",
              "20799    1\n",
              "Name: label, Length: 20800, dtype: int64"
            ]
          },
          "metadata": {},
          "execution_count": 11
        }
      ]
    },
    {
      "cell_type": "code",
      "source": [
        "X = news_dataset['text'].values\n",
        "Y = news_dataset['label'].values"
      ],
      "metadata": {
        "id": "Nsd988-bfGK6"
      },
      "execution_count": null,
      "outputs": []
    },
    {
      "cell_type": "code",
      "source": [
        "tfidf_vectorizer = TfidfVectorizer(stop_words='english',max_df=0.8)\n",
        "tfidf_vectorizer.fit(X)\n",
        "X = tfidf_vectorizer.transform(X)"
      ],
      "metadata": {
        "id": "XeDnnTlXqpKQ"
      },
      "execution_count": null,
      "outputs": []
    },
    {
      "cell_type": "code",
      "source": [
        "print(X)"
      ],
      "metadata": {
        "colab": {
          "base_uri": "https://localhost:8080/"
        },
        "id": "V9v6S-McsL4i",
        "outputId": "f1e2f0e3-5cb9-4053-8e19-cbbbda1114b6"
      },
      "execution_count": null,
      "outputs": [
        {
          "output_type": "stream",
          "name": "stdout",
          "text": [
            "  (0, 153220)\t0.05082122151984787\n",
            "  (0, 153171)\t0.011770203523497351\n",
            "  (0, 153161)\t0.012336509156248378\n",
            "  (0, 152086)\t0.04576160147219652\n",
            "  (0, 152080)\t0.09820098579353306\n",
            "  (0, 152012)\t0.03916930616277557\n",
            "  (0, 151954)\t0.014386797183891836\n",
            "  (0, 151296)\t0.02706228221956943\n",
            "  (0, 150140)\t0.017694497124772994\n",
            "  (0, 149917)\t0.030283022896215515\n",
            "  (0, 149813)\t0.014878675867274408\n",
            "  (0, 149567)\t0.01280064676267399\n",
            "  (0, 148441)\t0.02951262087699227\n",
            "  (0, 148415)\t0.022345596603050074\n",
            "  (0, 148391)\t0.018263747906452597\n",
            "  (0, 146175)\t0.01618233206529742\n",
            "  (0, 145349)\t0.06765942182213462\n",
            "  (0, 144431)\t0.03602584554115439\n",
            "  (0, 144104)\t0.018265926456449977\n",
            "  (0, 142986)\t0.04196216918918574\n",
            "  (0, 142202)\t0.04469971779395953\n",
            "  (0, 142126)\t0.058695836592839216\n",
            "  (0, 142124)\t0.08328161758350569\n",
            "  (0, 141960)\t0.025999795793899244\n",
            "  (0, 141947)\t0.024996020990469162\n",
            "  :\t:\n",
            "  (20799, 6944)\t0.028954921437880678\n",
            "  (20799, 6873)\t0.016355343868810365\n",
            "  (20799, 6790)\t0.04041306139745721\n",
            "  (20799, 5578)\t0.019176126070039573\n",
            "  (20799, 5388)\t0.04262643426557787\n",
            "  (20799, 5353)\t0.020030689859584366\n",
            "  (20799, 5241)\t0.03908635906576731\n",
            "  (20799, 4816)\t0.02424464964866572\n",
            "  (20799, 4459)\t0.0142864626461675\n",
            "  (20799, 4441)\t0.017986267503482808\n",
            "  (20799, 3868)\t0.030415877609499303\n",
            "  (20799, 3762)\t0.02087515657251797\n",
            "  (20799, 3687)\t0.03061524120283858\n",
            "  (20799, 2675)\t0.03203748013561986\n",
            "  (20799, 2370)\t0.021284178901448302\n",
            "  (20799, 2325)\t0.0470947191141362\n",
            "  (20799, 2168)\t0.2625348569334255\n",
            "  (20799, 2043)\t0.019707685282465782\n",
            "  (20799, 1992)\t0.01484973115719214\n",
            "  (20799, 1449)\t0.020584955002472705\n",
            "  (20799, 1443)\t0.02860987416969194\n",
            "  (20799, 1407)\t0.022450423982592817\n",
            "  (20799, 687)\t0.03624126008668678\n",
            "  (20799, 392)\t0.014664782191261331\n",
            "  (20799, 1)\t0.0364747620702705\n"
          ]
        }
      ]
    },
    {
      "cell_type": "code",
      "source": [
        "X_train, X_test, Y_train, Y_test = train_test_split(X,Y, test_size= 0.2, stratify= Y, random_state = 2)\n",
        "X_test.shape\n",
        "#X_train, X_test, Y_train, Y_test = train_test_split(X,Y, test_size= 0, stratify= Y, random_state = 1)"
      ],
      "metadata": {
        "colab": {
          "base_uri": "https://localhost:8080/"
        },
        "id": "Y8LHMzjqsUmD",
        "outputId": "97959df3-496b-4622-ce51-8cd7e5799435"
      },
      "execution_count": null,
      "outputs": [
        {
          "output_type": "execute_result",
          "data": {
            "text/plain": [
              "(4160, 180133)"
            ]
          },
          "metadata": {},
          "execution_count": 15
        }
      ]
    },
    {
      "cell_type": "code",
      "source": [
        "#Model Training\n",
        "model = LogisticRegression()\n",
        "model.fit(X_train, Y_train)"
      ],
      "metadata": {
        "colab": {
          "base_uri": "https://localhost:8080/"
        },
        "id": "5wUk2cOOsZAW",
        "outputId": "38f62c4f-3ac7-4b1b-ee16-73b7ffe69a17"
      },
      "execution_count": null,
      "outputs": [
        {
          "output_type": "execute_result",
          "data": {
            "text/plain": [
              "LogisticRegression()"
            ]
          },
          "metadata": {},
          "execution_count": 16
        }
      ]
    },
    {
      "cell_type": "code",
      "source": [
        "#Acc score on training data\n",
        "train_prediction = model.predict(X_train)\n",
        "train_acc = accuracy_score(Y_train, train_prediction)\n",
        "#train_acc = accuracy_score(train_prediction, Y_train)\n",
        "print(\"Training data accuracy:\", train_acc)"
      ],
      "metadata": {
        "colab": {
          "base_uri": "https://localhost:8080/"
        },
        "id": "cnjzhiUssbpr",
        "outputId": "53c6b035-bf7f-49d4-b91e-1c3fd188b8fb"
      },
      "execution_count": null,
      "outputs": [
        {
          "output_type": "stream",
          "name": "stdout",
          "text": [
            "Training data accuracy: 0.9756610576923077\n"
          ]
        }
      ]
    },
    {
      "cell_type": "code",
      "source": [
        "# Logistic Regression Acc score on test data\n",
        "test_prediction = model.predict(X_test)\n",
        "test_acc = accuracy_score(test_prediction, Y_test)\n",
        "print(\"Test data accuracy:\", test_acc)"
      ],
      "metadata": {
        "colab": {
          "base_uri": "https://localhost:8080/"
        },
        "id": "cH8MqdURsfkr",
        "outputId": "b7908b43-857b-4c57-dce3-b8b05d682eb3"
      },
      "execution_count": null,
      "outputs": [
        {
          "output_type": "stream",
          "name": "stdout",
          "text": [
            "Test data accuracy: 0.940625\n"
          ]
        }
      ]
    },
    {
      "cell_type": "code",
      "source": [
        "#Data to calculate accuracy test data set\n",
        "test_ratio = [0]*(1+len(Y_test))\n",
        "test_id = [0]*(1+len(Y_test))\n",
        "index = 0\n",
        "cnt = 0\n",
        "\n",
        "final_length = 0\n",
        "\n",
        "for i in range(0,len(test_prediction)):\n",
        "  #print(ratio[index])\n",
        "  index += 1\n",
        "\n",
        "  #print(ratio)\n",
        "  if(test_prediction[i] == Y_test[i]):\n",
        "    cnt += 1\n",
        "  test_ratio[index] = (cnt/(index))\n",
        "  test_id[index] = index\n",
        "  if(i % 100 == 0):\n",
        "    #print(final_length)\n",
        "    final_length+=1"
      ],
      "metadata": {
        "id": "5BtD-yQj_ALi"
      },
      "execution_count": null,
      "outputs": []
    },
    {
      "cell_type": "code",
      "source": [
        "#Final data to plot a few points of test data\n",
        "test_finalratio = [0]*(final_length)\n",
        "test_finalid = [0]*(final_length)\n",
        "\n",
        "for i in range(0, final_length):\n",
        "  test_finalratio[i] = test_ratio[i*100]\n",
        "  test_finalid[i] = test_id[i*100]"
      ],
      "metadata": {
        "id": "JEJHpuDOK8UY"
      },
      "execution_count": null,
      "outputs": []
    },
    {
      "cell_type": "code",
      "source": [
        "plt.plot(test_finalid, test_finalratio, marker = '.')\n",
        "plt.ylim(0, 1)\n",
        "plt.title('Logistic Regression Model')\n",
        "plt.ylabel('Accuracy')\n",
        "plt.xlabel('Number of Data Tested')\n",
        "plt.legend(['Test'], loc='lower right')\n",
        "plt.show()"
      ],
      "metadata": {
        "colab": {
          "base_uri": "https://localhost:8080/",
          "height": 295
        },
        "id": "St41_ADGsusH",
        "outputId": "df816e0e-f1b6-4a28-d6d6-f628a3d01e0b"
      },
      "execution_count": null,
      "outputs": [
        {
          "output_type": "display_data",
          "data": {
            "image/png": "[encoded data removed]",
            "text/plain": [
              "<Figure size 432x288 with 1 Axes>"
            ]
          },
          "metadata": {
            "needs_background": "light"
          }
        }
      ]
    },
    {
      "cell_type": "code",
      "source": [
        "import matplotlib.pyplot as plt\n",
        "from sklearn.datasets import make_classification\n",
        "from sklearn.metrics import plot_confusion_matrix\n",
        "from sklearn.model_selection import train_test_split\n",
        "from sklearn.svm import SVC\n",
        "\n",
        "clf = SVC(random_state=0)\n",
        "clf.fit(X_train, Y_train)\n",
        "SVC(random_state=0)\n",
        "plot_confusion_matrix(clf, X_test, Y_test)  \n",
        "plt.show()"
      ],
      "metadata": {
        "id": "J-DxYX4hZ5qc"
      },
      "execution_count": null,
      "outputs": []
    }
  ]
}